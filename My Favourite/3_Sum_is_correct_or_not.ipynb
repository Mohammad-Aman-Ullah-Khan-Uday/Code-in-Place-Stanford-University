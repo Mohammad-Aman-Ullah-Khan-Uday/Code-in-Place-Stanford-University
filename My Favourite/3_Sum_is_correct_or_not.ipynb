{
  "nbformat": 4,
  "nbformat_minor": 0,
  "metadata": {
    "colab": {
      "provenance": [],
      "gpuType": "T4"
    },
    "kernelspec": {
      "name": "python3",
      "display_name": "Python 3"
    },
    "language_info": {
      "name": "python"
    },
    "accelerator": "GPU"
  },
  "cells": [
    {
      "cell_type": "code",
      "source": [
        "import random\n",
        "\n",
        "def generate_problem():\n",
        "    num1 = random.randint(10, 99)\n",
        "    num2 = random.randint(10, 99)\n",
        "    return num1, num2\n",
        "\n",
        "def check_answer(num1, num2, answer):\n",
        "    expected = num1 + num2\n",
        "    if answer == expected:\n",
        "        return True\n",
        "    else:\n",
        "        return False\n",
        "\n",
        "def main():\n",
        "    while True:\n",
        "        num1, num2 = generate_problem()\n",
        "        print(\"What is\", num1, \"+\", num2, \"?\")\n",
        "        user_answer = int(input(\"Your answer: \"))\n",
        "\n",
        "        if check_answer(num1, num2, user_answer):\n",
        "            print(\"Correct!\")\n",
        "        else:\n",
        "            print(\"Incorrect.\")\n",
        "            print(\"The expected answer is\", num1 + num2)\n",
        "\n",
        "        print()\n",
        "\n",
        "if __name__ == \"__main__\":\n",
        "    main()"
      ],
      "metadata": {
        "colab": {
          "base_uri": "https://localhost:8080/"
        },
        "id": "Qm8Zcn0SM8IE",
        "outputId": "01d701d8-77fb-46c8-a8c0-0503a51e1ee2"
      },
      "execution_count": null,
      "outputs": [
        {
          "output_type": "stream",
          "name": "stdout",
          "text": [
            "What is 95 + 15 ?\n",
            "Your answer: 23\n",
            "Incorrect.\n",
            "The expected answer is 110\n",
            "\n",
            "What is 73 + 64 ?\n"
          ]
        }
      ]
    }
  ]
}