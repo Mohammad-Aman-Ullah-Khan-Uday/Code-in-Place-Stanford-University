{
  "nbformat": 4,
  "nbformat_minor": 0,
  "metadata": {
    "colab": {
      "provenance": [],
      "gpuType": "T4"
    },
    "kernelspec": {
      "name": "python3",
      "display_name": "Python 3"
    },
    "language_info": {
      "name": "python"
    },
    "accelerator": "GPU"
  },
  "cells": [
    {
      "cell_type": "code",
      "source": [
        "from graphics import Canvas\n",
        "import time\n",
        "\n",
        "BALL_SIZE = 50\n",
        "CANVAS_WIDTH = 550\n",
        "CANVAS_HEIGHT = 450\n",
        "DELAY = 0.001       # seconds to wait between each update\n",
        "START_X = 0\n",
        "START_Y = 0\n",
        "\n",
        "def make_ball(canvas): # make canvas object a parameter\n",
        "    '''\n",
        "    adds bouncing ball to the given canvas and returns it\n",
        "    '''\n",
        "    return canvas.create_oval(START_X, START_Y, BALL_SIZE, BALL_SIZE, 'blue')\n",
        "\n",
        "\n",
        "def main():\n",
        "    # setup\n",
        "    canvas = Canvas(CANVAS_WIDTH, CANVAS_HEIGHT)\n",
        "    ball = make_ball(canvas)\n",
        "    change_x = 1\n",
        "    change_y = 1\n",
        "\n",
        "    # animation loop\n",
        "    while(True):\n",
        "        left_x = canvas.get_left_x(ball)\n",
        "        top_y = canvas.get_top_y(ball)\n",
        "\n",
        "        # change direction if ball reaches an edge\n",
        "        if left_x < 0 or left_x + BALL_SIZE >= CANVAS_WIDTH:\n",
        "            change_x = -change_x\n",
        "\n",
        "        if top_y < 0 or top_y + BALL_SIZE >= CANVAS_HEIGHT:\n",
        "            change_y = -change_y\n",
        "\n",
        "        # update the ball\n",
        "        canvas.move(ball, change_x, change_y)\n",
        "\n",
        "        # pause\n",
        "        time.sleep(DELAY)\n",
        "\n",
        "\n",
        "if __name__ == \"__main__\":\n",
        "    main()"
      ],
      "metadata": {
        "colab": {
          "base_uri": "https://localhost:8080/",
          "height": 384
        },
        "id": "pjXf4DNsDWZB",
        "outputId": "afdb273b-fb5f-4a5e-c6f9-27330a89d717"
      },
      "execution_count": 2,
      "outputs": [
        {
          "output_type": "error",
          "ename": "ModuleNotFoundError",
          "evalue": "No module named 'graphics'",
          "traceback": [
            "\u001b[0;31m---------------------------------------------------------------------------\u001b[0m",
            "\u001b[0;31mModuleNotFoundError\u001b[0m                       Traceback (most recent call last)",
            "\u001b[0;32m<ipython-input-2-0f33f1c76db9>\u001b[0m in \u001b[0;36m<cell line: 1>\u001b[0;34m()\u001b[0m\n\u001b[0;32m----> 1\u001b[0;31m \u001b[0;32mfrom\u001b[0m \u001b[0mgraphics\u001b[0m \u001b[0;32mimport\u001b[0m \u001b[0mCanvas\u001b[0m\u001b[0;34m\u001b[0m\u001b[0;34m\u001b[0m\u001b[0m\n\u001b[0m\u001b[1;32m      2\u001b[0m \u001b[0;32mimport\u001b[0m \u001b[0mtime\u001b[0m\u001b[0;34m\u001b[0m\u001b[0;34m\u001b[0m\u001b[0m\n\u001b[1;32m      3\u001b[0m \u001b[0;34m\u001b[0m\u001b[0m\n\u001b[1;32m      4\u001b[0m \u001b[0mBALL_SIZE\u001b[0m \u001b[0;34m=\u001b[0m \u001b[0;36m50\u001b[0m\u001b[0;34m\u001b[0m\u001b[0;34m\u001b[0m\u001b[0m\n\u001b[1;32m      5\u001b[0m \u001b[0mCANVAS_WIDTH\u001b[0m \u001b[0;34m=\u001b[0m \u001b[0;36m550\u001b[0m\u001b[0;34m\u001b[0m\u001b[0;34m\u001b[0m\u001b[0m\n",
            "\u001b[0;31mModuleNotFoundError\u001b[0m: No module named 'graphics'",
            "",
            "\u001b[0;31m---------------------------------------------------------------------------\u001b[0;32m\nNOTE: If your import is failing due to a missing package, you can\nmanually install dependencies using either !pip or !apt.\n\nTo view examples of installing some common dependencies, click the\n\"Open Examples\" button below.\n\u001b[0;31m---------------------------------------------------------------------------\u001b[0m\n"
          ],
          "errorDetails": {
            "actions": [
              {
                "action": "open_url",
                "actionText": "Open Examples",
                "url": "/notebooks/snippets/importing_libraries.ipynb"
              }
            ]
          }
        }
      ]
    }
  ]
}